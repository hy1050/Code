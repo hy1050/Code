{
 "cells": [
  {
   "cell_type": "code",
   "execution_count": 1,
   "metadata": {},
   "outputs": [],
   "source": [
    "import numpy as np"
   ]
  },
  {
   "cell_type": "code",
   "execution_count": 4,
   "metadata": {},
   "outputs": [
    {
     "data": {
      "text/plain": [
       "array([[1., 0., 0., 0., 0.],\n",
       "       [0., 1., 0., 0., 0.],\n",
       "       [0., 0., 1., 0., 0.],\n",
       "       [0., 0., 0., 1., 0.],\n",
       "       [0., 0., 0., 0., 1.]])"
      ]
     },
     "execution_count": 4,
     "metadata": {},
     "output_type": "execute_result"
    }
   ],
   "source": [
    "import tensorflow as tf\n",
    "import pandas as pd\n",
    "from sklearn.model_selection import train_test_split\n",
    "from sklearn.preprocessing import LabelBinarizer\n",
    "from tensorflow.keras import layers, models\n",
    "\n",
    "# Load annotations\n",
    "annotations_path = 'path/to/your/annotations.csv'\n",
    "annotations = pd.read_csv(annotations_path, delimiter=';')\n",
    "\n",
    "# Load and preprocess images\n",
    "data = []\n",
    "labels = []\n",
    "\n",
    "for index, row in annotations.iterrows():\n",
    "    image_path = 'path/to/your/images/' + row['Filename']\n",
    "    image = tf.io.read_file(image_path)\n",
    "    image = tf.image.decode_image(image, channels=3)\n",
    "    image = tf.image.resize(image, (32, 32))  # Resize image to a common size\n",
    "\n",
    "    data.append(image.numpy())\n",
    "    labels.append(row['ClassId'])\n",
    "\n",
    "data = np.array(data)\n",
    "labels = np.array(labels)\n",
    "\n",
    "# Normalize pixel values to be between 0 and 1\n",
    "data = data / 255.0\n",
    "\n",
    "# One-hot encode labels\n",
    "label_binarizer = LabelBinarizer()\n",
    "labels = label_binarizer.fit_transform(labels)\n",
    "\n",
    "# Split the dataset into training and testing sets\n",
    "train_data, test_data, train_labels, test_labels = train_test_split(data, labels, test_size=0.2, random_state=42)\n",
    "\n",
    "# Define the CNN model using function with parameters\n",
    "def build_cnn_model(input_shape, num_classes):\n",
    "    model = models.Sequential()\n",
    "    model.add(layers.Conv2D(32, (3, 3), activation='relu', input_shape=input_shape))\n",
    "    model.add(layers.MaxPooling2D((2, 2)))\n",
    "    model.add(layers.Conv2D(64, (3, 3), activation='relu'))\n",
    "    model.add(layers.MaxPooling2D((2, 2)))\n",
    "    model.add(layers.Conv2D(64, (3, 3), activation='relu'))\n",
    "    model.add(layers.Flatten())\n",
    "    model.add(layers.Dense(64, activation='relu'))\n",
    "    model.add(layers.Dense(num_classes, activation='softmax'))\n",
    "    return model\n",
    "\n",
    "# Get input shape and number of classes\n",
    "input_shape = (32, 32, 3)  # Adjust based on your image size and channels\n",
    "num_classes = len(np.unique(labels))\n",
    "\n",
    "# Build the model\n",
    "model = build_cnn_model(input_shape, num_classes)\n",
    "\n",
    "# Compile the model\n",
    "model.compile(optimizer='adam', loss='categorical_crossentropy', metrics=['accuracy'])\n",
    "\n",
    "# Train the model\n",
    "model.fit(train_data, train_labels, epochs=10, validation_split=0.2)\n",
    "\n",
    "# Evaluate the model on the test set\n",
    "test_loss, test_acc = model.evaluate(test_data, test_labels)\n",
    "print(f'Test accuracy: {test_acc}')\n",
    "\n",
    "# Now, you can use the trained model for predictions\n",
    "# For example, if you have a new image 'new_image_path'\n",
    "new_image_path = 'path/to/your/new_image.ppm'\n",
    "new_image = tf.io.read_file(new_image_path)\n",
    "new_image = tf.image.decode_image(new_image, channels=3)\n",
    "new_image = tf.image.resize(new_image, (32, 32))\n",
    "new_image = np.expand_dims(new_image.numpy(), axis=0)  # Add batch dimension\n",
    "\n",
    "# Preprocess the new image\n",
    "new_image = new_image / 255.0\n",
    "\n",
    "# Make prediction\n",
    "prediction = model.predict(new_image)\n",
    "predicted_class = np.argmax(prediction)\n",
    "\n",
    "print(f'Predicted class: {predicted_class}')\n"
   ]
  },
  {
   "cell_type": "code",
   "execution_count": 2,
   "metadata": {},
   "outputs": [],
   "source": [
    "import tensorflow as tf\n",
    "from sklearn.metrics import confusion_matrix, classification_report\n",
    "import matplotlib.pyplot as plt\n",
    "import seaborn as sns\n",
    "import numpy as np\n",
    "\n",
    "\n"
   ]
  },
  {
   "cell_type": "code",
   "execution_count": 8,
   "metadata": {},
   "outputs": [],
   "source": [
    "loaded_model = tf.keras.models.load_model(r'C:\\Users\\BHG81HC\\Documents\\Private_Hy\\Graduate_Thesis\\Documents\\my_model')\n",
    "loaded_model2 = tf.keras.models.load_model(r'C:\\Users\\BHG81HC\\Documents\\Private_Hy\\Graduate_Thesis\\Documents\\Model_CNN\\my_model_cnn.h5')\n"
   ]
  },
  {
   "cell_type": "code",
   "execution_count": 22,
   "metadata": {},
   "outputs": [
    {
     "name": "stdout",
     "output_type": "stream",
     "text": [
      "Model: \"model\"\n",
      "_________________________________________________________________\n",
      " Layer (type)                Output Shape              Param #   \n",
      "=================================================================\n",
      " input_1 (InputLayer)        [(None, 32, 32, 3)]       0         \n",
      "                                                                 \n",
      " conv2d (Conv2D)             (None, 32, 32, 32)        2432      \n",
      "                                                                 \n",
      " max_pooling2d (MaxPooling2  (None, 16, 16, 32)        0         \n",
      " D)                                                              \n",
      "                                                                 \n",
      " conv2d_1 (Conv2D)           (None, 16, 16, 64)        51264     \n",
      "                                                                 \n",
      " max_pooling2d_1 (MaxPoolin  (None, 8, 8, 64)          0         \n",
      " g2D)                                                            \n",
      "                                                                 \n",
      " conv2d_2 (Conv2D)           (None, 8, 8, 128)         204928    \n",
      "                                                                 \n",
      " max_pooling2d_2 (MaxPoolin  (None, 4, 4, 128)         0         \n",
      " g2D)                                                            \n",
      "                                                                 \n",
      " flatten (Flatten)           (None, 2048)              0         \n",
      "                                                                 \n",
      " dense (Dense)               (None, 2048)              4196352   \n",
      "                                                                 \n",
      " dropout (Dropout)           (None, 2048)              0         \n",
      "                                                                 \n",
      " dense_1 (Dense)             (None, 43)                88107     \n",
      "                                                                 \n",
      "=================================================================\n",
      "Total params: 4543083 (17.33 MB)\n",
      "Trainable params: 4543083 (17.33 MB)\n",
      "Non-trainable params: 0 (0.00 Byte)\n",
      "_________________________________________________________________\n",
      "WARNING:tensorflow:From C:\\Users\\BHG81HC\\AppData\\Roaming\\Python\\Python311\\site-packages\\keras\\src\\optimizers\\__init__.py:309: The name tf.train.Optimizer is deprecated. Please use tf.compat.v1.train.Optimizer instead.\n",
      "\n"
     ]
    }
   ],
   "source": [
    "# print(loaded_model2.GetSummaryInformation)\n",
    "loaded_model2.summary()\n",
    "loaded_model2.compile()"
   ]
  },
  {
   "cell_type": "code",
   "execution_count": null,
   "metadata": {},
   "outputs": [],
   "source": [
    "# Đoán trên dữ liệu test\n",
    "y_pred = loaded_model.predict(x_test)\n",
    "y_pred_classes = np.argmax(y_pred, axis=1)\n",
    "\n",
    "# Chuyển đổi one-hot encoded labels thành dạng số nguyên\n",
    "y_test_classes = np.argmax(y_test, axis=1)\n",
    "\n",
    "# Tạo ma trận nhầm lẫn (Confusion Matrix)\n",
    "conf_matrix = confusion_matrix(y_test_classes, y_pred_classes)\n",
    "\n",
    "# Hiển thị ma trận nhầm lẫn bằng seaborn\n",
    "plt.figure(figsize=(8, 6))\n",
    "sns.heatmap(conf_matrix, annot=True, fmt='d', cmap='Blues', xticklabels=class_labels, yticklabels=class_labels)\n",
    "plt.xlabel('Predicted')\n",
    "plt.ylabel('True')\n",
    "plt.title('Confusion Matrix')\n",
    "plt.show()\n",
    "\n",
    "# Bảng thống kê\n",
    "class_report = classification_report(y_test_classes, y_pred_classes, target_names=class_labels)\n",
    "print(\"Classification Report:\\n\", class_report)"
   ]
  },
  {
   "cell_type": "code",
   "execution_count": 7,
   "metadata": {},
   "outputs": [
    {
     "ename": "AttributeError",
     "evalue": "'NoneType' object has no attribute 'history'",
     "output_type": "error",
     "traceback": [
      "\u001b[1;31m---------------------------------------------------------------------------\u001b[0m",
      "\u001b[1;31mAttributeError\u001b[0m                            Traceback (most recent call last)",
      "\u001b[1;32mc:\\Users\\BHG81HC\\Documents\\Private_Hy\\Graduate_Thesis\\Documents\\Model_CNN\\DeepTrafficSign-master\\test.ipynb Cell 6\u001b[0m line \u001b[0;36m2\n\u001b[0;32m      <a href='vscode-notebook-cell:/c%3A/Users/BHG81HC/Documents/Private_Hy/Graduate_Thesis/Documents/Model_CNN/DeepTrafficSign-master/test.ipynb#W5sZmlsZQ%3D%3D?line=0'>1</a>\u001b[0m \u001b[39m# Biểu đồ độ chính xác (Accuracy) theo epoch trong quá trình huấn luyện\u001b[39;00m\n\u001b[1;32m----> <a href='vscode-notebook-cell:/c%3A/Users/BHG81HC/Documents/Private_Hy/Graduate_Thesis/Documents/Model_CNN/DeepTrafficSign-master/test.ipynb#W5sZmlsZQ%3D%3D?line=1'>2</a>\u001b[0m plt\u001b[39m.\u001b[39mplot(loaded_model\u001b[39m.\u001b[39;49mhistory\u001b[39m.\u001b[39;49mhistory[\u001b[39m'\u001b[39m\u001b[39maccuracy\u001b[39m\u001b[39m'\u001b[39m])\n\u001b[0;32m      <a href='vscode-notebook-cell:/c%3A/Users/BHG81HC/Documents/Private_Hy/Graduate_Thesis/Documents/Model_CNN/DeepTrafficSign-master/test.ipynb#W5sZmlsZQ%3D%3D?line=2'>3</a>\u001b[0m plt\u001b[39m.\u001b[39mplot(loaded_model\u001b[39m.\u001b[39mhistory\u001b[39m.\u001b[39mhistory[\u001b[39m'\u001b[39m\u001b[39mval_accuracy\u001b[39m\u001b[39m'\u001b[39m])\n\u001b[0;32m      <a href='vscode-notebook-cell:/c%3A/Users/BHG81HC/Documents/Private_Hy/Graduate_Thesis/Documents/Model_CNN/DeepTrafficSign-master/test.ipynb#W5sZmlsZQ%3D%3D?line=3'>4</a>\u001b[0m plt\u001b[39m.\u001b[39mtitle(\u001b[39m'\u001b[39m\u001b[39mModel Accuracy\u001b[39m\u001b[39m'\u001b[39m)\n",
      "\u001b[1;31mAttributeError\u001b[0m: 'NoneType' object has no attribute 'history'"
     ]
    }
   ],
   "source": [
    "# Biểu đồ độ chính xác (Accuracy) theo epoch trong quá trình huấn luyện\n",
    "plt.plot(loaded_model.history.history['accuracy'])\n",
    "plt.plot(loaded_model.history.history['val_accuracy'])\n",
    "plt.title('Model Accuracy')\n",
    "plt.xlabel('Epoch')\n",
    "plt.ylabel('Accuracy')\n",
    "plt.legend(['Train', 'Validation'], loc='upper left')\n",
    "plt.show()\n",
    "\n",
    "# Biểu đồ hàm mất mát (Loss) theo epoch\n",
    "plt.plot(loaded_model.history.history['loss'])\n",
    "plt.plot(loaded_model.history.history['val_loss'])\n",
    "plt.title('Model Loss')\n",
    "plt.xlabel('Epoch')\n",
    "plt.ylabel('Loss')\n",
    "plt.legend(['Train', 'Validation'], loc='upper left')\n",
    "plt.show()"
   ]
  },
  {
   "cell_type": "code",
   "execution_count": 24,
   "metadata": {},
   "outputs": [],
   "source": [
    "import cv2\n",
    "\n",
    "# Mở camera máy tính\n",
    "cap = cv2.VideoCapture(0)  # 0 là ID của camera tích hợp trong máy tính\n",
    "\n",
    "while True:\n",
    "    # Đọc khung hình từ camera\n",
    "    ret, frame = cap.read()\n",
    "\n",
    "    # Hiển thị khung hình\n",
    "    cv2.imshow('Camera Feed', frame)\n",
    "\n",
    "    # Thoát vòng lặp khi nhấn phím 'q'\n",
    "    if cv2.waitKey(1) & 0xFF == ord('q'):\n",
    "        break\n",
    "\n",
    "# Giải phóng camera và đóng cửa sổ hiển thị\n",
    "cap.release()\n",
    "cv2.destroyAllWindows()"
   ]
  }
 ],
 "metadata": {
  "kernelspec": {
   "display_name": "Python 3",
   "language": "python",
   "name": "python3"
  },
  "language_info": {
   "codemirror_mode": {
    "name": "ipython",
    "version": 3
   },
   "file_extension": ".py",
   "mimetype": "text/x-python",
   "name": "python",
   "nbconvert_exporter": "python",
   "pygments_lexer": "ipython3",
   "version": "3.11.7"
  }
 },
 "nbformat": 4,
 "nbformat_minor": 2
}
